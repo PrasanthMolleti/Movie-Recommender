{
 "cells": [
  {
   "cell_type": "code",
   "execution_count": 2,
   "id": "f0b8581f",
   "metadata": {},
   "outputs": [
    {
     "data": {
      "application/javascript": [
       "\n",
       "            setTimeout(function() {\n",
       "                var nbb_cell_id = 2;\n",
       "                var nbb_unformatted_code = \"%matplotlib inline\\n%load_ext nb_black\";\n",
       "                var nbb_formatted_code = \"%matplotlib inline\\n%load_ext nb_black\";\n",
       "                var nbb_cells = Jupyter.notebook.get_cells();\n",
       "                for (var i = 0; i < nbb_cells.length; ++i) {\n",
       "                    if (nbb_cells[i].input_prompt_number == nbb_cell_id) {\n",
       "                        if (nbb_cells[i].get_text() == nbb_unformatted_code) {\n",
       "                             nbb_cells[i].set_text(nbb_formatted_code);\n",
       "                        }\n",
       "                        break;\n",
       "                    }\n",
       "                }\n",
       "            }, 500);\n",
       "            "
      ],
      "text/plain": [
       "<IPython.core.display.Javascript object>"
      ]
     },
     "metadata": {},
     "output_type": "display_data"
    }
   ],
   "source": [
    "%matplotlib inline\n",
    "%load_ext nb_black"
   ]
  },
  {
   "cell_type": "code",
   "execution_count": 1,
   "id": "35b0a807",
   "metadata": {},
   "outputs": [],
   "source": [
    "import os\n",
    "import pandas as pd\n",
    "\n",
    "import numpy as np"
   ]
  },
  {
   "cell_type": "code",
   "execution_count": 2,
   "id": "59871a7a",
   "metadata": {},
   "outputs": [],
   "source": [
    "data_path = os.path.join('.', 'Data')\n",
    "movies = pd.read_csv(os.path.join(data_path, 'movies.csv'), \n",
    "                    sep = '\\t', encoding = 'latin-1')\n",
    "ratings = pd.read_csv(os.path.join(data_path, 'ratings.csv'), \n",
    "                     sep = '\\t', encoding = 'latin-1')\n",
    "users = pd.read_csv(os.path.join(data_path, 'users.csv'), \n",
    "                   sep = '\\t', encoding = 'latin-1')"
   ]
  },
  {
   "cell_type": "code",
   "execution_count": 8,
   "id": "eefb6087",
   "metadata": {},
   "outputs": [
    {
     "name": "stdout",
     "output_type": "stream",
     "text": [
      "6040\n",
      "3706\n"
     ]
    }
   ],
   "source": [
    "print(ratings.user_id.unique().shape[0])\n",
    "print(ratings.movie_id.unique().shape[0])"
   ]
  },
  {
   "cell_type": "code",
   "execution_count": 11,
   "id": "e9604602",
   "metadata": {},
   "outputs": [],
   "source": [
    "Ratings = ratings.pivot(index = 'user_id', columns = 'movie_id', values = 'rating').fillna(0)"
   ]
  },
  {
   "cell_type": "code",
   "execution_count": 20,
   "id": "393122d4",
   "metadata": {},
   "outputs": [],
   "source": [
    "user_ratings_denormalized = Ratings.values - np.mean(Ratings, axis = 1).values.reshape(-1, 1)"
   ]
  },
  {
   "cell_type": "code",
   "execution_count": 60,
   "id": "2e135269",
   "metadata": {},
   "outputs": [
    {
     "data": {
      "text/plain": [
       "(6040, 3706)"
      ]
     },
     "execution_count": 60,
     "metadata": {},
     "output_type": "execute_result"
    }
   ],
   "source": [
    "Ratings.shape"
   ]
  },
  {
   "cell_type": "code",
   "execution_count": 34,
   "id": "b5d07cc2",
   "metadata": {},
   "outputs": [
    {
     "data": {
      "text/plain": [
       "22384240"
      ]
     },
     "execution_count": 34,
     "metadata": {},
     "output_type": "execute_result"
    }
   ],
   "source": [
    "Ratings.size"
   ]
  },
  {
   "cell_type": "code",
   "execution_count": 35,
   "id": "a5275bd1",
   "metadata": {},
   "outputs": [],
   "source": [
    "Ratings_zeroes = len(np.where(Ratings.values == 0)[0])"
   ]
  },
  {
   "cell_type": "code",
   "execution_count": 39,
   "id": "d055d197",
   "metadata": {},
   "outputs": [
    {
     "name": "stdout",
     "output_type": "stream",
     "text": [
      "Sparsity :  95.5 %\n"
     ]
    }
   ],
   "source": [
    "sparsity = np.round(Ratings_zeroes/Ratings.size, 3)\n",
    "print('Sparsity : ', sparsity*100, '%')"
   ]
  },
  {
   "cell_type": "code",
   "execution_count": 44,
   "id": "805b3b9c",
   "metadata": {},
   "outputs": [],
   "source": [
    "from scipy.sparse.linalg import svds"
   ]
  },
  {
   "cell_type": "code",
   "execution_count": 47,
   "id": "5ada69c1",
   "metadata": {},
   "outputs": [],
   "source": [
    "U, sigma, V_t = svds(users_ratings_denormalized,\n",
    "                   k = 50)"
   ]
  },
  {
   "cell_type": "code",
   "execution_count": 50,
   "id": "f970a287",
   "metadata": {},
   "outputs": [],
   "source": [
    "sigma = np.diag(sigma)"
   ]
  },
  {
   "cell_type": "code",
   "execution_count": 56,
   "id": "42aa721b",
   "metadata": {},
   "outputs": [
    {
     "data": {
      "text/plain": [
       "(6040, 3706)"
      ]
     },
     "execution_count": 56,
     "metadata": {},
     "output_type": "execute_result"
    }
   ],
   "source": [
    "user_predicted_ratings = np.dot(U, np.dot(sigma, V_t))\n",
    "user_predicted_ratings.shape"
   ]
  },
  {
   "cell_type": "code",
   "execution_count": 58,
   "id": "bbb34dc5",
   "metadata": {},
   "outputs": [
    {
     "data": {
      "text/plain": [
       "Int64Index([   1,    2,    3,    4,    5,    6,    7,    8,    9,   10,\n",
       "            ...\n",
       "            3943, 3944, 3945, 3946, 3947, 3948, 3949, 3950, 3951, 3952],\n",
       "           dtype='int64', name='movie_id', length=3706)"
      ]
     },
     "execution_count": 58,
     "metadata": {},
     "output_type": "execute_result"
    }
   ],
   "source": [
    "Ratings.columns"
   ]
  },
  {
   "cell_type": "code",
   "execution_count": 59,
   "id": "32de7163",
   "metadata": {},
   "outputs": [
    {
     "data": {
      "text/html": [
       "<div>\n",
       "<style scoped>\n",
       "    .dataframe tbody tr th:only-of-type {\n",
       "        vertical-align: middle;\n",
       "    }\n",
       "\n",
       "    .dataframe tbody tr th {\n",
       "        vertical-align: top;\n",
       "    }\n",
       "\n",
       "    .dataframe thead th {\n",
       "        text-align: right;\n",
       "    }\n",
       "</style>\n",
       "<table border=\"1\" class=\"dataframe\">\n",
       "  <thead>\n",
       "    <tr style=\"text-align: right;\">\n",
       "      <th>movie_id</th>\n",
       "      <th>1</th>\n",
       "      <th>2</th>\n",
       "      <th>3</th>\n",
       "      <th>4</th>\n",
       "      <th>5</th>\n",
       "      <th>6</th>\n",
       "      <th>7</th>\n",
       "      <th>8</th>\n",
       "      <th>9</th>\n",
       "      <th>10</th>\n",
       "      <th>...</th>\n",
       "      <th>3943</th>\n",
       "      <th>3944</th>\n",
       "      <th>3945</th>\n",
       "      <th>3946</th>\n",
       "      <th>3947</th>\n",
       "      <th>3948</th>\n",
       "      <th>3949</th>\n",
       "      <th>3950</th>\n",
       "      <th>3951</th>\n",
       "      <th>3952</th>\n",
       "    </tr>\n",
       "  </thead>\n",
       "  <tbody>\n",
       "    <tr>\n",
       "      <th>0</th>\n",
       "      <td>4.228958</td>\n",
       "      <td>0.083152</td>\n",
       "      <td>-0.254982</td>\n",
       "      <td>-0.078746</td>\n",
       "      <td>-0.047671</td>\n",
       "      <td>-0.236506</td>\n",
       "      <td>-0.134023</td>\n",
       "      <td>0.081455</td>\n",
       "      <td>-0.119456</td>\n",
       "      <td>-0.255853</td>\n",
       "      <td>...</td>\n",
       "      <td>-0.032096</td>\n",
       "      <td>-0.058263</td>\n",
       "      <td>-0.033508</td>\n",
       "      <td>-0.081927</td>\n",
       "      <td>-0.145318</td>\n",
       "      <td>0.343626</td>\n",
       "      <td>0.045676</td>\n",
       "      <td>-0.027991</td>\n",
       "      <td>-0.009453</td>\n",
       "      <td>0.029007</td>\n",
       "    </tr>\n",
       "    <tr>\n",
       "      <th>1</th>\n",
       "      <td>0.615466</td>\n",
       "      <td>0.040409</td>\n",
       "      <td>0.206168</td>\n",
       "      <td>-0.128492</td>\n",
       "      <td>-0.106775</td>\n",
       "      <td>1.223801</td>\n",
       "      <td>-0.077824</td>\n",
       "      <td>-0.057992</td>\n",
       "      <td>0.032352</td>\n",
       "      <td>1.437996</td>\n",
       "      <td>...</td>\n",
       "      <td>-0.185752</td>\n",
       "      <td>-0.142982</td>\n",
       "      <td>-0.139830</td>\n",
       "      <td>-0.066674</td>\n",
       "      <td>-0.145498</td>\n",
       "      <td>0.026540</td>\n",
       "      <td>-0.547986</td>\n",
       "      <td>-0.230352</td>\n",
       "      <td>-0.183348</td>\n",
       "      <td>-0.269438</td>\n",
       "    </tr>\n",
       "    <tr>\n",
       "      <th>2</th>\n",
       "      <td>1.765127</td>\n",
       "      <td>0.402440</td>\n",
       "      <td>0.037281</td>\n",
       "      <td>-0.096734</td>\n",
       "      <td>-0.079391</td>\n",
       "      <td>-0.212314</td>\n",
       "      <td>-0.185475</td>\n",
       "      <td>0.045281</td>\n",
       "      <td>-0.023145</td>\n",
       "      <td>0.681774</td>\n",
       "      <td>...</td>\n",
       "      <td>-0.013216</td>\n",
       "      <td>-0.058997</td>\n",
       "      <td>-0.040864</td>\n",
       "      <td>-0.024348</td>\n",
       "      <td>-0.032830</td>\n",
       "      <td>0.067835</td>\n",
       "      <td>0.022508</td>\n",
       "      <td>-0.041352</td>\n",
       "      <td>-0.038549</td>\n",
       "      <td>-0.163653</td>\n",
       "    </tr>\n",
       "    <tr>\n",
       "      <th>3</th>\n",
       "      <td>0.384312</td>\n",
       "      <td>-0.096705</td>\n",
       "      <td>0.015897</td>\n",
       "      <td>0.065618</td>\n",
       "      <td>0.018204</td>\n",
       "      <td>0.214008</td>\n",
       "      <td>-0.073172</td>\n",
       "      <td>-0.014279</td>\n",
       "      <td>0.021723</td>\n",
       "      <td>-0.135115</td>\n",
       "      <td>...</td>\n",
       "      <td>-0.015175</td>\n",
       "      <td>-0.029171</td>\n",
       "      <td>-0.032245</td>\n",
       "      <td>-0.027162</td>\n",
       "      <td>-0.107727</td>\n",
       "      <td>0.070767</td>\n",
       "      <td>0.033812</td>\n",
       "      <td>-0.049795</td>\n",
       "      <td>-0.008904</td>\n",
       "      <td>-0.057969</td>\n",
       "    </tr>\n",
       "    <tr>\n",
       "      <th>4</th>\n",
       "      <td>1.406167</td>\n",
       "      <td>-0.146867</td>\n",
       "      <td>-0.219406</td>\n",
       "      <td>0.078778</td>\n",
       "      <td>-0.200512</td>\n",
       "      <td>1.384175</td>\n",
       "      <td>-0.367735</td>\n",
       "      <td>-0.183026</td>\n",
       "      <td>-0.228604</td>\n",
       "      <td>0.282406</td>\n",
       "      <td>...</td>\n",
       "      <td>-0.057955</td>\n",
       "      <td>-0.122096</td>\n",
       "      <td>-0.161172</td>\n",
       "      <td>-0.184046</td>\n",
       "      <td>-0.218186</td>\n",
       "      <td>-0.220645</td>\n",
       "      <td>0.339083</td>\n",
       "      <td>-0.134276</td>\n",
       "      <td>-0.042400</td>\n",
       "      <td>0.031138</td>\n",
       "    </tr>\n",
       "    <tr>\n",
       "      <th>...</th>\n",
       "      <td>...</td>\n",
       "      <td>...</td>\n",
       "      <td>...</td>\n",
       "      <td>...</td>\n",
       "      <td>...</td>\n",
       "      <td>...</td>\n",
       "      <td>...</td>\n",
       "      <td>...</td>\n",
       "      <td>...</td>\n",
       "      <td>...</td>\n",
       "      <td>...</td>\n",
       "      <td>...</td>\n",
       "      <td>...</td>\n",
       "      <td>...</td>\n",
       "      <td>...</td>\n",
       "      <td>...</td>\n",
       "      <td>...</td>\n",
       "      <td>...</td>\n",
       "      <td>...</td>\n",
       "      <td>...</td>\n",
       "      <td>...</td>\n",
       "    </tr>\n",
       "    <tr>\n",
       "      <th>6035</th>\n",
       "      <td>1.600969</td>\n",
       "      <td>-0.557455</td>\n",
       "      <td>-0.377743</td>\n",
       "      <td>-0.347693</td>\n",
       "      <td>-0.875060</td>\n",
       "      <td>1.400874</td>\n",
       "      <td>0.377517</td>\n",
       "      <td>-0.646182</td>\n",
       "      <td>-0.837970</td>\n",
       "      <td>-0.230524</td>\n",
       "      <td>...</td>\n",
       "      <td>-0.602927</td>\n",
       "      <td>-0.795858</td>\n",
       "      <td>-0.833691</td>\n",
       "      <td>-0.881520</td>\n",
       "      <td>-0.515107</td>\n",
       "      <td>-0.657613</td>\n",
       "      <td>-0.059045</td>\n",
       "      <td>-0.520185</td>\n",
       "      <td>-0.546437</td>\n",
       "      <td>-0.056649</td>\n",
       "    </tr>\n",
       "    <tr>\n",
       "      <th>6036</th>\n",
       "      <td>1.868116</td>\n",
       "      <td>-0.063350</td>\n",
       "      <td>-0.215310</td>\n",
       "      <td>-0.379634</td>\n",
       "      <td>0.058599</td>\n",
       "      <td>0.871590</td>\n",
       "      <td>-0.118646</td>\n",
       "      <td>-0.188830</td>\n",
       "      <td>-0.232823</td>\n",
       "      <td>-0.287600</td>\n",
       "      <td>...</td>\n",
       "      <td>-0.364193</td>\n",
       "      <td>-0.201460</td>\n",
       "      <td>-0.231868</td>\n",
       "      <td>-0.249732</td>\n",
       "      <td>-0.103609</td>\n",
       "      <td>-0.395297</td>\n",
       "      <td>-0.293910</td>\n",
       "      <td>-0.151846</td>\n",
       "      <td>-0.316071</td>\n",
       "      <td>-0.169362</td>\n",
       "    </tr>\n",
       "    <tr>\n",
       "      <th>6037</th>\n",
       "      <td>0.598581</td>\n",
       "      <td>-0.182276</td>\n",
       "      <td>0.086231</td>\n",
       "      <td>-0.013460</td>\n",
       "      <td>-0.095208</td>\n",
       "      <td>-0.100460</td>\n",
       "      <td>0.079713</td>\n",
       "      <td>-0.054520</td>\n",
       "      <td>-0.012836</td>\n",
       "      <td>-0.019227</td>\n",
       "      <td>...</td>\n",
       "      <td>-0.074053</td>\n",
       "      <td>-0.014673</td>\n",
       "      <td>-0.012956</td>\n",
       "      <td>-0.044589</td>\n",
       "      <td>-0.031246</td>\n",
       "      <td>-0.029370</td>\n",
       "      <td>-0.120281</td>\n",
       "      <td>-0.033877</td>\n",
       "      <td>-0.050862</td>\n",
       "      <td>-0.135443</td>\n",
       "    </tr>\n",
       "    <tr>\n",
       "      <th>6038</th>\n",
       "      <td>1.374895</td>\n",
       "      <td>-0.164918</td>\n",
       "      <td>-0.289978</td>\n",
       "      <td>-0.212112</td>\n",
       "      <td>-0.210327</td>\n",
       "      <td>-0.272227</td>\n",
       "      <td>-0.022042</td>\n",
       "      <td>-0.183114</td>\n",
       "      <td>-0.137536</td>\n",
       "      <td>0.077091</td>\n",
       "      <td>...</td>\n",
       "      <td>-0.134814</td>\n",
       "      <td>-0.119777</td>\n",
       "      <td>-0.121115</td>\n",
       "      <td>-0.166510</td>\n",
       "      <td>-0.077967</td>\n",
       "      <td>-0.104658</td>\n",
       "      <td>-0.301176</td>\n",
       "      <td>-0.139614</td>\n",
       "      <td>-0.167358</td>\n",
       "      <td>-0.297070</td>\n",
       "    </tr>\n",
       "    <tr>\n",
       "      <th>6039</th>\n",
       "      <td>1.667052</td>\n",
       "      <td>-0.515183</td>\n",
       "      <td>-0.485674</td>\n",
       "      <td>-0.225053</td>\n",
       "      <td>-0.359197</td>\n",
       "      <td>-0.223675</td>\n",
       "      <td>-0.497672</td>\n",
       "      <td>-0.387370</td>\n",
       "      <td>-0.206482</td>\n",
       "      <td>-0.448911</td>\n",
       "      <td>...</td>\n",
       "      <td>-0.091108</td>\n",
       "      <td>-0.376242</td>\n",
       "      <td>-0.372455</td>\n",
       "      <td>-0.290940</td>\n",
       "      <td>-0.273503</td>\n",
       "      <td>-0.179603</td>\n",
       "      <td>0.258793</td>\n",
       "      <td>-0.335837</td>\n",
       "      <td>-0.202129</td>\n",
       "      <td>-0.044195</td>\n",
       "    </tr>\n",
       "  </tbody>\n",
       "</table>\n",
       "<p>6040 rows × 3706 columns</p>\n",
       "</div>"
      ],
      "text/plain": [
       "movie_id      1         2         3         4         5         6     \\\n",
       "0         4.228958  0.083152 -0.254982 -0.078746 -0.047671 -0.236506   \n",
       "1         0.615466  0.040409  0.206168 -0.128492 -0.106775  1.223801   \n",
       "2         1.765127  0.402440  0.037281 -0.096734 -0.079391 -0.212314   \n",
       "3         0.384312 -0.096705  0.015897  0.065618  0.018204  0.214008   \n",
       "4         1.406167 -0.146867 -0.219406  0.078778 -0.200512  1.384175   \n",
       "...            ...       ...       ...       ...       ...       ...   \n",
       "6035      1.600969 -0.557455 -0.377743 -0.347693 -0.875060  1.400874   \n",
       "6036      1.868116 -0.063350 -0.215310 -0.379634  0.058599  0.871590   \n",
       "6037      0.598581 -0.182276  0.086231 -0.013460 -0.095208 -0.100460   \n",
       "6038      1.374895 -0.164918 -0.289978 -0.212112 -0.210327 -0.272227   \n",
       "6039      1.667052 -0.515183 -0.485674 -0.225053 -0.359197 -0.223675   \n",
       "\n",
       "movie_id      7         8         9         10    ...      3943      3944  \\\n",
       "0        -0.134023  0.081455 -0.119456 -0.255853  ... -0.032096 -0.058263   \n",
       "1        -0.077824 -0.057992  0.032352  1.437996  ... -0.185752 -0.142982   \n",
       "2        -0.185475  0.045281 -0.023145  0.681774  ... -0.013216 -0.058997   \n",
       "3        -0.073172 -0.014279  0.021723 -0.135115  ... -0.015175 -0.029171   \n",
       "4        -0.367735 -0.183026 -0.228604  0.282406  ... -0.057955 -0.122096   \n",
       "...            ...       ...       ...       ...  ...       ...       ...   \n",
       "6035      0.377517 -0.646182 -0.837970 -0.230524  ... -0.602927 -0.795858   \n",
       "6036     -0.118646 -0.188830 -0.232823 -0.287600  ... -0.364193 -0.201460   \n",
       "6037      0.079713 -0.054520 -0.012836 -0.019227  ... -0.074053 -0.014673   \n",
       "6038     -0.022042 -0.183114 -0.137536  0.077091  ... -0.134814 -0.119777   \n",
       "6039     -0.497672 -0.387370 -0.206482 -0.448911  ... -0.091108 -0.376242   \n",
       "\n",
       "movie_id      3945      3946      3947      3948      3949      3950  \\\n",
       "0        -0.033508 -0.081927 -0.145318  0.343626  0.045676 -0.027991   \n",
       "1        -0.139830 -0.066674 -0.145498  0.026540 -0.547986 -0.230352   \n",
       "2        -0.040864 -0.024348 -0.032830  0.067835  0.022508 -0.041352   \n",
       "3        -0.032245 -0.027162 -0.107727  0.070767  0.033812 -0.049795   \n",
       "4        -0.161172 -0.184046 -0.218186 -0.220645  0.339083 -0.134276   \n",
       "...            ...       ...       ...       ...       ...       ...   \n",
       "6035     -0.833691 -0.881520 -0.515107 -0.657613 -0.059045 -0.520185   \n",
       "6036     -0.231868 -0.249732 -0.103609 -0.395297 -0.293910 -0.151846   \n",
       "6037     -0.012956 -0.044589 -0.031246 -0.029370 -0.120281 -0.033877   \n",
       "6038     -0.121115 -0.166510 -0.077967 -0.104658 -0.301176 -0.139614   \n",
       "6039     -0.372455 -0.290940 -0.273503 -0.179603  0.258793 -0.335837   \n",
       "\n",
       "movie_id      3951      3952  \n",
       "0        -0.009453  0.029007  \n",
       "1        -0.183348 -0.269438  \n",
       "2        -0.038549 -0.163653  \n",
       "3        -0.008904 -0.057969  \n",
       "4        -0.042400  0.031138  \n",
       "...            ...       ...  \n",
       "6035     -0.546437 -0.056649  \n",
       "6036     -0.316071 -0.169362  \n",
       "6037     -0.050862 -0.135443  \n",
       "6038     -0.167358 -0.297070  \n",
       "6039     -0.202129 -0.044195  \n",
       "\n",
       "[6040 rows x 3706 columns]"
      ]
     },
     "execution_count": 59,
     "metadata": {},
     "output_type": "execute_result"
    }
   ],
   "source": [
    "predictions = pd.DataFrame(user_predicted_ratings, columns = Ratings.columns)\n",
    "predictions"
   ]
  },
  {
   "cell_type": "code",
   "execution_count": 67,
   "id": "82a27302",
   "metadata": {},
   "outputs": [
    {
     "data": {
      "text/html": [
       "<div>\n",
       "<style scoped>\n",
       "    .dataframe tbody tr th:only-of-type {\n",
       "        vertical-align: middle;\n",
       "    }\n",
       "\n",
       "    .dataframe tbody tr th {\n",
       "        vertical-align: top;\n",
       "    }\n",
       "\n",
       "    .dataframe thead th {\n",
       "        text-align: right;\n",
       "    }\n",
       "</style>\n",
       "<table border=\"1\" class=\"dataframe\">\n",
       "  <thead>\n",
       "    <tr style=\"text-align: right;\">\n",
       "      <th></th>\n",
       "      <th>movie_id</th>\n",
       "      <th>title</th>\n",
       "      <th>genres</th>\n",
       "      <th>movie_embed_id</th>\n",
       "    </tr>\n",
       "  </thead>\n",
       "  <tbody>\n",
       "    <tr>\n",
       "      <th>0</th>\n",
       "      <td>1</td>\n",
       "      <td>Toy Story (1995)</td>\n",
       "      <td>Animation|Children's|Comedy</td>\n",
       "      <td>0</td>\n",
       "    </tr>\n",
       "    <tr>\n",
       "      <th>1</th>\n",
       "      <td>2</td>\n",
       "      <td>Jumanji (1995)</td>\n",
       "      <td>Adventure|Children's|Fantasy</td>\n",
       "      <td>1</td>\n",
       "    </tr>\n",
       "    <tr>\n",
       "      <th>2</th>\n",
       "      <td>3</td>\n",
       "      <td>Grumpier Old Men (1995)</td>\n",
       "      <td>Comedy|Romance</td>\n",
       "      <td>2</td>\n",
       "    </tr>\n",
       "    <tr>\n",
       "      <th>3</th>\n",
       "      <td>4</td>\n",
       "      <td>Waiting to Exhale (1995)</td>\n",
       "      <td>Comedy|Drama</td>\n",
       "      <td>3</td>\n",
       "    </tr>\n",
       "    <tr>\n",
       "      <th>4</th>\n",
       "      <td>5</td>\n",
       "      <td>Father of the Bride Part II (1995)</td>\n",
       "      <td>Comedy</td>\n",
       "      <td>4</td>\n",
       "    </tr>\n",
       "  </tbody>\n",
       "</table>\n",
       "</div>"
      ],
      "text/plain": [
       "   movie_id                               title                        genres  \\\n",
       "0         1                    Toy Story (1995)   Animation|Children's|Comedy   \n",
       "1         2                      Jumanji (1995)  Adventure|Children's|Fantasy   \n",
       "2         3             Grumpier Old Men (1995)                Comedy|Romance   \n",
       "3         4            Waiting to Exhale (1995)                  Comedy|Drama   \n",
       "4         5  Father of the Bride Part II (1995)                        Comedy   \n",
       "\n",
       "   movie_embed_id  \n",
       "0               0  \n",
       "1               1  \n",
       "2               2  \n",
       "3               3  \n",
       "4               4  "
      ]
     },
     "execution_count": 67,
     "metadata": {},
     "output_type": "execute_result"
    }
   ],
   "source": [
    "movies.head()"
   ]
  },
  {
   "cell_type": "code",
   "execution_count": null,
   "id": "64d64414",
   "metadata": {},
   "outputs": [],
   "source": []
  },
  {
   "cell_type": "code",
   "execution_count": 75,
   "id": "3305533d",
   "metadata": {},
   "outputs": [
    {
     "data": {
      "text/html": [
       "<div>\n",
       "<style scoped>\n",
       "    .dataframe tbody tr th:only-of-type {\n",
       "        vertical-align: middle;\n",
       "    }\n",
       "\n",
       "    .dataframe tbody tr th {\n",
       "        vertical-align: top;\n",
       "    }\n",
       "\n",
       "    .dataframe thead th {\n",
       "        text-align: right;\n",
       "    }\n",
       "</style>\n",
       "<table border=\"1\" class=\"dataframe\">\n",
       "  <thead>\n",
       "    <tr style=\"text-align: right;\">\n",
       "      <th></th>\n",
       "      <th>movie_id</th>\n",
       "      <th>title</th>\n",
       "      <th>genres</th>\n",
       "      <th>movie_embed_id</th>\n",
       "      <th>3</th>\n",
       "    </tr>\n",
       "  </thead>\n",
       "  <tbody>\n",
       "    <tr>\n",
       "      <th>0</th>\n",
       "      <td>1</td>\n",
       "      <td>Toy Story (1995)</td>\n",
       "      <td>Animation|Children's|Comedy</td>\n",
       "      <td>0</td>\n",
       "      <td>0.384312</td>\n",
       "    </tr>\n",
       "    <tr>\n",
       "      <th>1</th>\n",
       "      <td>2</td>\n",
       "      <td>Jumanji (1995)</td>\n",
       "      <td>Adventure|Children's|Fantasy</td>\n",
       "      <td>1</td>\n",
       "      <td>-0.096705</td>\n",
       "    </tr>\n",
       "    <tr>\n",
       "      <th>2</th>\n",
       "      <td>3</td>\n",
       "      <td>Grumpier Old Men (1995)</td>\n",
       "      <td>Comedy|Romance</td>\n",
       "      <td>2</td>\n",
       "      <td>0.015897</td>\n",
       "    </tr>\n",
       "    <tr>\n",
       "      <th>3</th>\n",
       "      <td>4</td>\n",
       "      <td>Waiting to Exhale (1995)</td>\n",
       "      <td>Comedy|Drama</td>\n",
       "      <td>3</td>\n",
       "      <td>0.065618</td>\n",
       "    </tr>\n",
       "    <tr>\n",
       "      <th>4</th>\n",
       "      <td>5</td>\n",
       "      <td>Father of the Bride Part II (1995)</td>\n",
       "      <td>Comedy</td>\n",
       "      <td>4</td>\n",
       "      <td>0.018204</td>\n",
       "    </tr>\n",
       "    <tr>\n",
       "      <th>...</th>\n",
       "      <td>...</td>\n",
       "      <td>...</td>\n",
       "      <td>...</td>\n",
       "      <td>...</td>\n",
       "      <td>...</td>\n",
       "    </tr>\n",
       "    <tr>\n",
       "      <th>3857</th>\n",
       "      <td>3948</td>\n",
       "      <td>Meet the Parents (2000)</td>\n",
       "      <td>Comedy</td>\n",
       "      <td>3947</td>\n",
       "      <td>0.070767</td>\n",
       "    </tr>\n",
       "    <tr>\n",
       "      <th>3858</th>\n",
       "      <td>3949</td>\n",
       "      <td>Requiem for a Dream (2000)</td>\n",
       "      <td>Drama</td>\n",
       "      <td>3948</td>\n",
       "      <td>0.033812</td>\n",
       "    </tr>\n",
       "    <tr>\n",
       "      <th>3859</th>\n",
       "      <td>3950</td>\n",
       "      <td>Tigerland (2000)</td>\n",
       "      <td>Drama</td>\n",
       "      <td>3949</td>\n",
       "      <td>-0.049795</td>\n",
       "    </tr>\n",
       "    <tr>\n",
       "      <th>3860</th>\n",
       "      <td>3951</td>\n",
       "      <td>Two Family House (2000)</td>\n",
       "      <td>Drama</td>\n",
       "      <td>3950</td>\n",
       "      <td>-0.008904</td>\n",
       "    </tr>\n",
       "    <tr>\n",
       "      <th>3861</th>\n",
       "      <td>3952</td>\n",
       "      <td>Contender, The (2000)</td>\n",
       "      <td>Drama|Thriller</td>\n",
       "      <td>3951</td>\n",
       "      <td>-0.057969</td>\n",
       "    </tr>\n",
       "  </tbody>\n",
       "</table>\n",
       "<p>3862 rows × 5 columns</p>\n",
       "</div>"
      ],
      "text/plain": [
       "      movie_id                               title  \\\n",
       "0            1                    Toy Story (1995)   \n",
       "1            2                      Jumanji (1995)   \n",
       "2            3             Grumpier Old Men (1995)   \n",
       "3            4            Waiting to Exhale (1995)   \n",
       "4            5  Father of the Bride Part II (1995)   \n",
       "...        ...                                 ...   \n",
       "3857      3948             Meet the Parents (2000)   \n",
       "3858      3949          Requiem for a Dream (2000)   \n",
       "3859      3950                    Tigerland (2000)   \n",
       "3860      3951             Two Family House (2000)   \n",
       "3861      3952               Contender, The (2000)   \n",
       "\n",
       "                            genres  movie_embed_id         3  \n",
       "0      Animation|Children's|Comedy               0  0.384312  \n",
       "1     Adventure|Children's|Fantasy               1 -0.096705  \n",
       "2                   Comedy|Romance               2  0.015897  \n",
       "3                     Comedy|Drama               3  0.065618  \n",
       "4                           Comedy               4  0.018204  \n",
       "...                            ...             ...       ...  \n",
       "3857                        Comedy            3947  0.070767  \n",
       "3858                         Drama            3948  0.033812  \n",
       "3859                         Drama            3949 -0.049795  \n",
       "3860                         Drama            3950 -0.008904  \n",
       "3861                Drama|Thriller            3951 -0.057969  \n",
       "\n",
       "[3862 rows x 5 columns]"
      ]
     },
     "execution_count": 75,
     "metadata": {},
     "output_type": "execute_result"
    }
   ],
   "source": [
    "user_row_num = 3\n",
    "sorted_users_predictions = predictions.loc[user_row_num, :].sort_values(ascending = False)\n",
    "user_info = ratings.loc[ratings['user_embed_id'] == user_row_num]\n",
    "user_complete = pd.merge(user_info, movies, how = 'left', left_on = 'movie_id', right_on = 'movie_id').sort_values(['rating'], ascending = False)\n",
    "pd.merge(movies.loc[~movies['movie_id'].isin(user_complete['movie_id'])], pd.DataFrame(sorted_users_predictions.reset_index()), \n",
    "        how = 'left', left_on = 'movie_id', right_on = 'movie_id')"
   ]
  },
  {
   "cell_type": "code",
   "execution_count": null,
   "id": "374cc8dd",
   "metadata": {},
   "outputs": [],
   "source": []
  },
  {
   "cell_type": "code",
   "execution_count": 82,
   "id": "08c4b938",
   "metadata": {},
   "outputs": [],
   "source": [
    "def recommended_movies(predictions, user_id, ratings_actual, recommendations_num):\n",
    "    user_row_num = user_id - 1\n",
    "    sorted_users_predictions = predictions.loc[user_row_num, :].sort_values(ascending = False)\n",
    "    \n",
    "    user_info = ratings_actual.loc[ratings_actual['user_embed_id'] == user_row_num]\n",
    "    user_complete = pd.merge(user_info, movies, how = 'left', left_on = 'movie_id', right_on = 'movie_id').sort_values(['rating'], ascending = False)\n",
    "    print(f'The user has rated {user_complete.shape[0]} movies out of {movies.shape[0]} available movies')\n",
    "    print(f'The top {recommendations_num} movie recommendations for userID {user_id} are : ')\n",
    "    \n",
    "    recommends = pd.merge(movies.loc[~movies['movie_id'].isin(user_complete['movie_id'])], \n",
    "                         pd.DataFrame(sorted_users_predictions).reset_index(), \n",
    "                         how = 'left', left_on = 'movie_id', \n",
    "                         right_on = 'movie_id').rename(columns = {user_row_num : 'Pred'}).sort_values(['Pred'], ascending = False).iloc[:recommendations_num, :-1]\n",
    "    \n",
    "    return user_complete, recommends"
   ]
  },
  {
   "cell_type": "code",
   "execution_count": 83,
   "id": "1cbf225a",
   "metadata": {},
   "outputs": [
    {
     "name": "stdout",
     "output_type": "stream",
     "text": [
      "The user has rated 304 movies out of 3883 available movies\n",
      "The top 30 movie recommendations for userID 23 are : \n"
     ]
    }
   ],
   "source": [
    "user_rated, recommendations = recommended_movies(predictions, 23, ratings, 30)"
   ]
  },
  {
   "cell_type": "code",
   "execution_count": 85,
   "id": "3dadb7fc",
   "metadata": {},
   "outputs": [
    {
     "data": {
      "text/plain": [
       "(30, 4)"
      ]
     },
     "execution_count": 85,
     "metadata": {},
     "output_type": "execute_result"
    }
   ],
   "source": [
    "recommendations.shape"
   ]
  },
  {
   "cell_type": "code",
   "execution_count": 94,
   "id": "7efb4529",
   "metadata": {},
   "outputs": [],
   "source": [
    "from sklearn.metrics import mean_squared_error\n",
    "from math import sqrt\n",
    "from sklearn.model_selection import KFold"
   ]
  },
  {
   "cell_type": "code",
   "execution_count": 102,
   "id": "d66e6064",
   "metadata": {},
   "outputs": [],
   "source": [
    "kfold = KFold()\n",
    "kfolds = kfold.split(ratings[['movie_id', 'user_id', 'rating', 'movie_embed_id']])"
   ]
  },
  {
   "cell_type": "code",
   "execution_count": null,
   "id": "f570c402",
   "metadata": {},
   "outputs": [],
   "source": []
  }
 ],
 "metadata": {
  "kernelspec": {
   "display_name": "Python 3 (ipykernel)",
   "language": "python",
   "name": "python3"
  },
  "language_info": {
   "codemirror_mode": {
    "name": "ipython",
    "version": 3
   },
   "file_extension": ".py",
   "mimetype": "text/x-python",
   "name": "python",
   "nbconvert_exporter": "python",
   "pygments_lexer": "ipython3",
   "version": "3.9.7"
  }
 },
 "nbformat": 4,
 "nbformat_minor": 5
}
