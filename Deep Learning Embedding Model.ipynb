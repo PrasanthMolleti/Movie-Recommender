{
 "cells": [
  {
   "cell_type": "code",
   "execution_count": 1,
   "id": "2528ce20",
   "metadata": {},
   "outputs": [
    {
     "data": {
      "application/javascript": [
       "\n",
       "            setTimeout(function() {\n",
       "                var nbb_cell_id = 1;\n",
       "                var nbb_unformatted_code = \"%matplotlib inline\\n%load_ext nb_black\";\n",
       "                var nbb_formatted_code = \"%matplotlib inline\\n%load_ext nb_black\";\n",
       "                var nbb_cells = Jupyter.notebook.get_cells();\n",
       "                for (var i = 0; i < nbb_cells.length; ++i) {\n",
       "                    if (nbb_cells[i].input_prompt_number == nbb_cell_id) {\n",
       "                        if (nbb_cells[i].get_text() == nbb_unformatted_code) {\n",
       "                             nbb_cells[i].set_text(nbb_formatted_code);\n",
       "                        }\n",
       "                        break;\n",
       "                    }\n",
       "                }\n",
       "            }, 500);\n",
       "            "
      ],
      "text/plain": [
       "<IPython.core.display.Javascript object>"
      ]
     },
     "metadata": {},
     "output_type": "display_data"
    }
   ],
   "source": [
    "%matplotlib inline\n",
    "%load_ext nb_black"
   ]
  },
  {
   "cell_type": "code",
   "execution_count": 2,
   "id": "8af3bdbd",
   "metadata": {},
   "outputs": [
    {
     "data": {
      "application/javascript": [
       "\n",
       "            setTimeout(function() {\n",
       "                var nbb_cell_id = 2;\n",
       "                var nbb_unformatted_code = \"import os\\nimport pandas as pd\\nimport numpy as np\";\n",
       "                var nbb_formatted_code = \"import os\\nimport pandas as pd\\nimport numpy as np\";\n",
       "                var nbb_cells = Jupyter.notebook.get_cells();\n",
       "                for (var i = 0; i < nbb_cells.length; ++i) {\n",
       "                    if (nbb_cells[i].input_prompt_number == nbb_cell_id) {\n",
       "                        if (nbb_cells[i].get_text() == nbb_unformatted_code) {\n",
       "                             nbb_cells[i].set_text(nbb_formatted_code);\n",
       "                        }\n",
       "                        break;\n",
       "                    }\n",
       "                }\n",
       "            }, 500);\n",
       "            "
      ],
      "text/plain": [
       "<IPython.core.display.Javascript object>"
      ]
     },
     "metadata": {},
     "output_type": "display_data"
    }
   ],
   "source": [
    "import os\n",
    "import pandas as pd\n",
    "import numpy as np"
   ]
  },
  {
   "cell_type": "code",
   "execution_count": 3,
   "id": "e810e534",
   "metadata": {},
   "outputs": [
    {
     "data": {
      "application/javascript": [
       "\n",
       "            setTimeout(function() {\n",
       "                var nbb_cell_id = 3;\n",
       "                var nbb_unformatted_code = \"data_path = os.path.join('.', 'Data')\\nusers = pd.read_csv(os.path.join(data_path, 'users.csv'), \\n                   sep = '\\\\t', encoding = 'latin-1')\\nuserID_max = users.user_id.drop_duplicates().max()\\n\\nmovies = pd.read_csv(os.path.join(data_path, 'movies.csv'), \\n                    sep = '\\\\t', encoding = 'latin-1')\\nmovieID_max = movies.movie_id.drop_duplicates().max()\\nratings = pd.read_csv(os.path.join(data_path, 'ratings.csv'), \\n                     sep = '\\\\t', encoding = 'latin-1')\";\n",
       "                var nbb_formatted_code = \"data_path = os.path.join(\\\".\\\", \\\"Data\\\")\\nusers = pd.read_csv(os.path.join(data_path, \\\"users.csv\\\"), sep=\\\"\\\\t\\\", encoding=\\\"latin-1\\\")\\nuserID_max = users.user_id.drop_duplicates().max()\\n\\nmovies = pd.read_csv(\\n    os.path.join(data_path, \\\"movies.csv\\\"), sep=\\\"\\\\t\\\", encoding=\\\"latin-1\\\"\\n)\\nmovieID_max = movies.movie_id.drop_duplicates().max()\\nratings = pd.read_csv(\\n    os.path.join(data_path, \\\"ratings.csv\\\"), sep=\\\"\\\\t\\\", encoding=\\\"latin-1\\\"\\n)\";\n",
       "                var nbb_cells = Jupyter.notebook.get_cells();\n",
       "                for (var i = 0; i < nbb_cells.length; ++i) {\n",
       "                    if (nbb_cells[i].input_prompt_number == nbb_cell_id) {\n",
       "                        if (nbb_cells[i].get_text() == nbb_unformatted_code) {\n",
       "                             nbb_cells[i].set_text(nbb_formatted_code);\n",
       "                        }\n",
       "                        break;\n",
       "                    }\n",
       "                }\n",
       "            }, 500);\n",
       "            "
      ],
      "text/plain": [
       "<IPython.core.display.Javascript object>"
      ]
     },
     "metadata": {},
     "output_type": "display_data"
    }
   ],
   "source": [
    "data_path = os.path.join('.', 'Data')\n",
    "users = pd.read_csv(os.path.join(data_path, 'users.csv'), \n",
    "                   sep = '\\t', encoding = 'latin-1')\n",
    "userID_max = users.user_id.drop_duplicates().max()\n",
    "\n",
    "movies = pd.read_csv(os.path.join(data_path, 'movies.csv'), \n",
    "                    sep = '\\t', encoding = 'latin-1')\n",
    "movieID_max = movies.movie_id.drop_duplicates().max()\n",
    "ratings = pd.read_csv(os.path.join(data_path, 'ratings.csv'), \n",
    "                     sep = '\\t', encoding = 'latin-1')\n"
   ]
  },
  {
   "cell_type": "code",
   "execution_count": 4,
   "id": "4c38d53d",
   "metadata": {},
   "outputs": [
    {
     "data": {
      "application/javascript": [
       "\n",
       "            setTimeout(function() {\n",
       "                var nbb_cell_id = 4;\n",
       "                var nbb_unformatted_code = \"shuffled_data = ratings.sample(frac = 1., random_state = 0)\\nusers_array = shuffled_data.user_embed_id.values\\nmovies_array = shuffled_data.movie_embed_id.values\\nratings_array = shuffled_data.rating.values\";\n",
       "                var nbb_formatted_code = \"shuffled_data = ratings.sample(frac=1.0, random_state=0)\\nusers_array = shuffled_data.user_embed_id.values\\nmovies_array = shuffled_data.movie_embed_id.values\\nratings_array = shuffled_data.rating.values\";\n",
       "                var nbb_cells = Jupyter.notebook.get_cells();\n",
       "                for (var i = 0; i < nbb_cells.length; ++i) {\n",
       "                    if (nbb_cells[i].input_prompt_number == nbb_cell_id) {\n",
       "                        if (nbb_cells[i].get_text() == nbb_unformatted_code) {\n",
       "                             nbb_cells[i].set_text(nbb_formatted_code);\n",
       "                        }\n",
       "                        break;\n",
       "                    }\n",
       "                }\n",
       "            }, 500);\n",
       "            "
      ],
      "text/plain": [
       "<IPython.core.display.Javascript object>"
      ]
     },
     "metadata": {},
     "output_type": "display_data"
    }
   ],
   "source": [
    "shuffled_data = ratings.sample(frac=1.0, random_state=0)\n",
    "users_array = shuffled_data.user_embed_id.values\n",
    "movies_array = shuffled_data.movie_embed_id.values\n",
    "ratings_array = shuffled_data.rating.values"
   ]
  },
  {
   "cell_type": "code",
   "execution_count": 5,
   "id": "7d881813",
   "metadata": {},
   "outputs": [
    {
     "name": "stdout",
     "output_type": "stream",
     "text": [
      "(1000209,)\n",
      "(1000209,)\n",
      "(1000209,)\n"
     ]
    },
    {
     "data": {
      "application/javascript": [
       "\n",
       "            setTimeout(function() {\n",
       "                var nbb_cell_id = 5;\n",
       "                var nbb_unformatted_code = \"print(users_array.shape)\\nprint(movies_array.shape)\\nprint(ratings_array.shape)\";\n",
       "                var nbb_formatted_code = \"print(users_array.shape)\\nprint(movies_array.shape)\\nprint(ratings_array.shape)\";\n",
       "                var nbb_cells = Jupyter.notebook.get_cells();\n",
       "                for (var i = 0; i < nbb_cells.length; ++i) {\n",
       "                    if (nbb_cells[i].input_prompt_number == nbb_cell_id) {\n",
       "                        if (nbb_cells[i].get_text() == nbb_unformatted_code) {\n",
       "                             nbb_cells[i].set_text(nbb_formatted_code);\n",
       "                        }\n",
       "                        break;\n",
       "                    }\n",
       "                }\n",
       "            }, 500);\n",
       "            "
      ],
      "text/plain": [
       "<IPython.core.display.Javascript object>"
      ]
     },
     "metadata": {},
     "output_type": "display_data"
    }
   ],
   "source": [
    "print(users_array.shape)\n",
    "print(movies_array.shape)\n",
    "print(ratings_array.shape)"
   ]
  },
  {
   "cell_type": "code",
   "execution_count": 6,
   "id": "1f637286",
   "metadata": {},
   "outputs": [
    {
     "data": {
      "application/javascript": [
       "\n",
       "            setTimeout(function() {\n",
       "                var nbb_cell_id = 6;\n",
       "                var nbb_unformatted_code = \"from tensorflow.keras import layers\\nfrom tensorflow.keras.models import Sequential\";\n",
       "                var nbb_formatted_code = \"from tensorflow.keras import layers\\nfrom tensorflow.keras.models import Sequential\";\n",
       "                var nbb_cells = Jupyter.notebook.get_cells();\n",
       "                for (var i = 0; i < nbb_cells.length; ++i) {\n",
       "                    if (nbb_cells[i].input_prompt_number == nbb_cell_id) {\n",
       "                        if (nbb_cells[i].get_text() == nbb_unformatted_code) {\n",
       "                             nbb_cells[i].set_text(nbb_formatted_code);\n",
       "                        }\n",
       "                        break;\n",
       "                    }\n",
       "                }\n",
       "            }, 500);\n",
       "            "
      ],
      "text/plain": [
       "<IPython.core.display.Javascript object>"
      ]
     },
     "metadata": {},
     "output_type": "display_data"
    }
   ],
   "source": [
    "from tensorflow.keras import layers\n",
    "from tensorflow.keras.models import Sequential"
   ]
  },
  {
   "cell_type": "code",
   "execution_count": null,
   "id": "4dcfebc0",
   "metadata": {},
   "outputs": [],
   "source": [
    "def matrix_factorization():\n",
    "    transformer = Sequential()\n",
    "    transformer.add()"
   ]
  }
 ],
 "metadata": {
  "kernelspec": {
   "display_name": "Python 3 (ipykernel)",
   "language": "python",
   "name": "python3"
  },
  "language_info": {
   "codemirror_mode": {
    "name": "ipython",
    "version": 3
   },
   "file_extension": ".py",
   "mimetype": "text/x-python",
   "name": "python",
   "nbconvert_exporter": "python",
   "pygments_lexer": "ipython3",
   "version": "3.9.7"
  }
 },
 "nbformat": 4,
 "nbformat_minor": 5
}
